{
 "cells": [
  {
   "cell_type": "code",
   "execution_count": 2,
   "metadata": {},
   "outputs": [],
   "source": [
    "include(\"src/Plotting/processData.jl\")\n",
    "include(\"src/Plotting/plotUtils.jl\");"
   ]
  },
  {
   "cell_type": "code",
   "execution_count": 3,
   "metadata": {},
   "outputs": [],
   "source": [
    "test_stats = getTestStats(\"BigTest2\", 10)\n",
    "gen_times = procTimes(test_stats)\n",
    "cumulative_times = getTotalTimes(gen_times)\n",
    "test_gen_scores = getTopScores(test_stats);\n",
    "time_stats = getTimeStats(gen_times)\n",
    "fit_stats = getFitnessStats(test_stats);"
   ]
  },
  {
   "cell_type": "code",
   "execution_count": null,
   "metadata": {},
   "outputs": [],
   "source": [
    "time_plot_scatter = scatterTime(gen_times, time_stats)"
   ]
  },
  {
   "cell_type": "code",
   "execution_count": null,
   "metadata": {},
   "outputs": [],
   "source": [
    "outlier_scatter = outlierTime(gen_times, time_stats; α=0.1, bandwidth=1.5)"
   ]
  },
  {
   "cell_type": "code",
   "execution_count": null,
   "metadata": {},
   "outputs": [],
   "source": [
    "time_plot = linearTime(cumulative_times)"
   ]
  },
  {
   "cell_type": "code",
   "execution_count": null,
   "metadata": {},
   "outputs": [],
   "source": [
    "clibrary(:colorbrewer)\n",
    "score_plot_line = plot(test_gen_scores[1]; \n",
    "    xlabel=\"Generation\", \n",
    "    xlims=(-10,260),\n",
    "    ylabel=\"Min. Generation Score\", \n",
    "    title=\"Generation Scores\", \n",
    "    lab=\"Run 1\", \n",
    "    lw=3,\n",
    "    la=.5,\n",
    "    hover=test_gen_scores[1],\n",
    "    palette=:RdYlBu)\n",
    "\n",
    "for i = 2:length(test_gen_scores)\n",
    "    plot!(test_gen_scores[i];  \n",
    "        xlims=(-10,260),\n",
    "        lab=\"Run $i\", \n",
    "        lw=3,\n",
    "        la=.5,\n",
    "        hover=test_gen_scores[i])\n",
    "end\n",
    "score_plot_line"
   ]
  },
  {
   "cell_type": "code",
   "execution_count": null,
   "metadata": {},
   "outputs": [],
   "source": [
    "score_plot_scatter = scatter(test_gen_scores[1]; \n",
    "    xlabel=\"Generation\", \n",
    "    xlims=(-10,260),\n",
    "    ylabel=\"Min. Generation Score\", \n",
    "    title=\"Generation Scores\",\n",
    "    lab=\"Run 1\", \n",
    "    hover=test_gen_scores[1],\n",
    "    palette=:RdYlBu)\n",
    "for i = 2:length(test_gen_scores)\n",
    "    scatter!(test_gen_scores[i]; \n",
    "        xlabel=\"Generation\", \n",
    "        ylabel=\"Min. Generation Score\", \n",
    "        title=\"Generation Scores\", \n",
    "        lab=\"Run $i\", \n",
    "        hover=test_gen_scores[i], \n",
    "        leg=true)\n",
    "end\n",
    "score_plot_scatter"
   ]
  },
  {
   "cell_type": "code",
   "execution_count": null,
   "metadata": {},
   "outputs": [],
   "source": []
  },
  {
   "cell_type": "code",
   "execution_count": null,
   "metadata": {},
   "outputs": [],
   "source": []
  }
 ],
 "metadata": {
  "kernelspec": {
   "display_name": "Julia 1.0.3",
   "language": "julia",
   "name": "julia-1.0"
  },
  "language_info": {
   "file_extension": ".jl",
   "mimetype": "application/julia",
   "name": "julia",
   "version": "1.0.3"
  }
 },
 "nbformat": 4,
 "nbformat_minor": 2
}
